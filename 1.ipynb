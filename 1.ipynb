{
 "cells": [
  {
   "cell_type": "code",
   "execution_count": 1,
   "metadata": {},
   "outputs": [],
   "source": [
    "import pandas as pd \n",
    "import numpy as np \n",
    "import sys\n",
    "import warnings\n",
    "import itertools\n",
    "warnings.filterwarnings(\"ignore\")\n",
    "import statsmodels.api as sm\n",
    "import statsmodels.tsa.api as smt\n",
    "import statsmodels.formula.api as smf\n",
    "from sklearn.metrics import mean_squared_error\n",
    "import matplotlib.pyplot as plt\n",
    "%matplotlib inline\n",
    "import datetime\n",
    "import calendar\n",
    "import seaborn as sns\n",
    "from statsmodels.tsa.api import ExponentialSmoothing, SimpleExpSmoothing, Holt"
   ]
  },
  {
   "cell_type": "code",
   "execution_count": 5,
   "metadata": {},
   "outputs": [],
   "source": [
    "data = pd.read_excel(\"Produit_1.xlsx\")"
   ]
  },
  {
   "cell_type": "code",
   "execution_count": 8,
   "metadata": {},
   "outputs": [],
   "source": [
    "dates = pd.date_range(start='2016-06-01', freq='MS', periods=len(data))"
   ]
  },
  {
   "cell_type": "code",
   "execution_count": 9,
   "metadata": {},
   "outputs": [],
   "source": [
    "data.set_index(dates,inplace=True)"
   ]
  },
  {
   "cell_type": "code",
   "execution_count": 10,
   "metadata": {},
   "outputs": [],
   "source": [
    "sales_ts = data['Data']"
   ]
  },
  {
   "cell_type": "code",
   "execution_count": 11,
   "metadata": {},
   "outputs": [
    {
     "data": {
      "text/plain": [
       "2016-06-01     194\n",
       "2016-07-01     561\n",
       "2016-08-01     854\n",
       "2016-09-01     654\n",
       "2016-10-01     655\n",
       "2016-11-01     624\n",
       "2016-12-01     625\n",
       "2017-01-01     689\n",
       "2017-02-01     699\n",
       "2017-03-01     790\n",
       "2017-04-01    1120\n",
       "2017-05-01     918\n",
       "2017-06-01    1015\n",
       "2017-07-01    1089\n",
       "2017-08-01    1285\n",
       "2017-09-01     998\n",
       "2017-10-01    1018\n",
       "2017-11-01    1023\n",
       "2017-12-01    1029\n",
       "2018-01-01    1083\n",
       "2018-02-01    1122\n",
       "2018-03-01    1248\n",
       "2018-04-01    1327\n",
       "2018-05-01    1512\n",
       "2018-06-01    1439\n",
       "2018-07-01    1725\n",
       "2018-08-01    1617\n",
       "2018-09-01    1514\n",
       "2018-10-01    1736\n",
       "2018-11-01    1396\n",
       "2018-12-01    1528\n",
       "2019-01-01    1732\n",
       "2019-02-01    1406\n",
       "2019-03-01    1524\n",
       "2019-04-01    1804\n",
       "2019-05-01    1521\n",
       "2019-06-01    1521\n",
       "2019-07-01    1660\n",
       "Freq: MS, Name: Data, dtype: int64"
      ]
     },
     "execution_count": 11,
     "metadata": {},
     "output_type": "execute_result"
    }
   ],
   "source": [
    "sales_ts"
   ]
  },
  {
   "cell_type": "code",
   "execution_count": 12,
   "metadata": {},
   "outputs": [
    {
     "data": {
      "text/html": [
       "<div>\n",
       "<style scoped>\n",
       "    .dataframe tbody tr th:only-of-type {\n",
       "        vertical-align: middle;\n",
       "    }\n",
       "\n",
       "    .dataframe tbody tr th {\n",
       "        vertical-align: top;\n",
       "    }\n",
       "\n",
       "    .dataframe thead th {\n",
       "        text-align: right;\n",
       "    }\n",
       "</style>\n",
       "<table border=\"1\" class=\"dataframe\">\n",
       "  <thead>\n",
       "    <tr style=\"text-align: right;\">\n",
       "      <th></th>\n",
       "      <th>Data</th>\n",
       "    </tr>\n",
       "  </thead>\n",
       "  <tbody>\n",
       "    <tr>\n",
       "      <th>2016-06-01</th>\n",
       "      <td>194</td>\n",
       "    </tr>\n",
       "    <tr>\n",
       "      <th>2016-07-01</th>\n",
       "      <td>561</td>\n",
       "    </tr>\n",
       "    <tr>\n",
       "      <th>2016-08-01</th>\n",
       "      <td>854</td>\n",
       "    </tr>\n",
       "    <tr>\n",
       "      <th>2016-09-01</th>\n",
       "      <td>654</td>\n",
       "    </tr>\n",
       "    <tr>\n",
       "      <th>2016-10-01</th>\n",
       "      <td>655</td>\n",
       "    </tr>\n",
       "  </tbody>\n",
       "</table>\n",
       "</div>"
      ],
      "text/plain": [
       "            Data\n",
       "2016-06-01   194\n",
       "2016-07-01   561\n",
       "2016-08-01   854\n",
       "2016-09-01   654\n",
       "2016-10-01   655"
      ]
     },
     "execution_count": 12,
     "metadata": {},
     "output_type": "execute_result"
    }
   ],
   "source": [
    "data = pd.DataFrame(sales_ts.copy())\n",
    "data.head()"
   ]
  },
  {
   "cell_type": "code",
   "execution_count": 15,
   "metadata": {},
   "outputs": [],
   "source": [
    "# Splitting Train and Test Length\n",
    "train_len = int(np.ceil(len(data) * 0.70))"
   ]
  },
  {
   "cell_type": "code",
   "execution_count": 16,
   "metadata": {},
   "outputs": [
    {
     "name": "stdout",
     "output_type": "stream",
     "text": [
      "Train data length : 27\n",
      "Test  data length : 11\n"
     ]
    }
   ],
   "source": [
    "\n",
    "train=data[0:train_len] \n",
    "test=data[train_len:]\n",
    "print('Train data length :',len(train))\n",
    "print('Test  data length :',len(test))"
   ]
  },
  {
   "cell_type": "code",
   "execution_count": 18,
   "metadata": {},
   "outputs": [],
   "source": [
    "x_train = train.drop('Data', axis=1)\n",
    "x_test = test.drop('Data', axis=1)\n",
    "y_train = train[['Data']]\n",
    "y_test = test[['Data']]"
   ]
  },
  {
   "cell_type": "code",
   "execution_count": 20,
   "metadata": {},
   "outputs": [],
   "source": [
    "y_hat_avg = test.copy()\n",
    "y_hat_avg['avg_forecast'] = train['Data'].mean()"
   ]
  },
  {
   "cell_type": "code",
   "execution_count": 21,
   "metadata": {},
   "outputs": [
    {
     "data": {
      "image/png": "[encoded data removed]",
      "text/plain": [
       "<Figure size 864x576 with 1 Axes>"
      ]
     },
     "metadata": {
      "needs_background": "light"
     },
     "output_type": "display_data"
    }
   ],
   "source": [
    "plt.figure(figsize=(12,8))\n",
    "plt.plot(train['Data'], label='Train')\n",
    "plt.plot(test['Data'], label='Test')\n",
    "plt.plot(y_hat_avg['avg_forecast'], label='Simple Average Forecast')\n",
    "plt.legend(loc='best')\n",
    "plt.show()"
   ]
  },
  {
   "cell_type": "code",
   "execution_count": 23,
   "metadata": {},
   "outputs": [],
   "source": [
    "# Root Mean Square Error (RMSE)\n",
    "rmse = np.sqrt(mean_squared_error(test.Data, y_hat_avg.avg_forecast))\n",
    "rmse = round(rmse, 3)"
   ]
  },
  {
   "cell_type": "code",
   "execution_count": 24,
   "metadata": {},
   "outputs": [
    {
     "data": {
      "text/html": [
       "<div>\n",
       "<style scoped>\n",
       "    .dataframe tbody tr th:only-of-type {\n",
       "        vertical-align: middle;\n",
       "    }\n",
       "\n",
       "    .dataframe tbody tr th {\n",
       "        vertical-align: top;\n",
       "    }\n",
       "\n",
       "    .dataframe thead th {\n",
       "        text-align: right;\n",
       "    }\n",
       "</style>\n",
       "<table border=\"1\" class=\"dataframe\">\n",
       "  <thead>\n",
       "    <tr style=\"text-align: right;\">\n",
       "      <th></th>\n",
       "      <th>Method</th>\n",
       "      <th>RMSE</th>\n",
       "    </tr>\n",
       "  </thead>\n",
       "  <tbody>\n",
       "    <tr>\n",
       "      <th>0</th>\n",
       "      <td>Simple average forecast</td>\n",
       "      <td>594.108</td>\n",
       "    </tr>\n",
       "  </tbody>\n",
       "</table>\n",
       "</div>"
      ],
      "text/plain": [
       "                    Method     RMSE\n",
       "0  Simple average forecast  594.108"
      ]
     },
     "execution_count": 24,
     "metadata": {},
     "output_type": "execute_result"
    }
   ],
   "source": [
    "#Mean Absolute Percentage Error\n",
    "abs_error = np.abs(y_test['Data']-y_hat_avg.avg_forecast)\n",
    "actual = y_test['Data']\n",
    "mape = np.round(np.mean(abs_error/actual),4)\n",
    "resultsDf = pd.DataFrame({'Method':['Simple average forecast'], 'RMSE': [rmse]})\n",
    "resultsDf"
   ]
  },
  {
   "cell_type": "code",
   "execution_count": 25,
   "metadata": {},
   "outputs": [
    {
     "data": {
      "text/html": [
       "<div>\n",
       "<style scoped>\n",
       "    .dataframe tbody tr th:only-of-type {\n",
       "        vertical-align: middle;\n",
       "    }\n",
       "\n",
       "    .dataframe tbody tr th {\n",
       "        vertical-align: top;\n",
       "    }\n",
       "\n",
       "    .dataframe thead th {\n",
       "        text-align: right;\n",
       "    }\n",
       "</style>\n",
       "<table border=\"1\" class=\"dataframe\">\n",
       "  <thead>\n",
       "    <tr style=\"text-align: right;\">\n",
       "      <th></th>\n",
       "      <th>Method</th>\n",
       "      <th>RMSE</th>\n",
       "      <th>MAPE</th>\n",
       "    </tr>\n",
       "  </thead>\n",
       "  <tbody>\n",
       "    <tr>\n",
       "      <th>0</th>\n",
       "      <td>Simple average forecast</td>\n",
       "      <td>594.108</td>\n",
       "      <td>0.3635</td>\n",
       "    </tr>\n",
       "  </tbody>\n",
       "</table>\n",
       "</div>"
      ],
      "text/plain": [
       "                    Method     RMSE    MAPE\n",
       "0  Simple average forecast  594.108  0.3635"
      ]
     },
     "execution_count": 25,
     "metadata": {},
     "output_type": "execute_result"
    }
   ],
   "source": [
    "# Storing results in a dataframe\n",
    "resultsDf = pd.DataFrame({'Method':['Simple average forecast'], 'MAPE': [mape], 'RMSE': [rmse]})\n",
    "resultsDf = resultsDf[['Method', 'RMSE', 'MAPE']]\n",
    "resultsDf"
   ]
  },
  {
   "cell_type": "code",
   "execution_count": 26,
   "metadata": {},
   "outputs": [],
   "source": [
    "df1 = data.copy()"
   ]
  },
  {
   "cell_type": "code",
   "execution_count": 27,
   "metadata": {},
   "outputs": [
    {
     "name": "stdout",
     "output_type": "stream",
     "text": [
      "Rolling window :  1 RMSE :  0.0 MAPE :  0.0\n",
      "Rolling window :  2 RMSE :  110.01 MAPE :  0.0626\n",
      "Rolling window :  3 RMSE :  128.3 MAPE :  0.0724\n",
      "Rolling window :  4 RMSE :  101.84 MAPE :  0.0538\n",
      "Rolling window :  5 RMSE :  120.25 MAPE :  0.0627\n",
      "Rolling window :  6 RMSE :  124.85 MAPE :  0.0663\n",
      "Rolling window :  7 RMSE :  120.12 MAPE :  0.0625\n",
      "Rolling window :  8 RMSE :  130.72 MAPE :  0.0687\n",
      "Rolling window :  9 RMSE :  138.0 MAPE :  0.072\n",
      "Rolling window :  10 RMSE :  145.18 MAPE :  0.0733\n",
      "Rolling window :  11 RMSE :  159.19 MAPE :  0.0789\n",
      "Rolling window :  12 RMSE :  171.89 MAPE :  0.081\n"
     ]
    }
   ],
   "source": [
    "for i in range(1,13):\n",
    "    df1['moving_avg_forecast'] = data['Data'].rolling(i).mean()\n",
    "    train=df1[0:train_len] \n",
    "    test=df1[train_len:]\n",
    "    y_hat_avg = test.copy()\n",
    "    rmse = np.sqrt(mean_squared_error(test.Data, y_hat_avg.moving_avg_forecast))\n",
    "    abs_error = np.abs(y_test['Data']-y_hat_avg.moving_avg_forecast)\n",
    "    actual = y_test['Data']\n",
    "    mape = np.round(np.mean(abs_error/actual),4)\n",
    "    print('Rolling window : ',i,'RMSE : ' ,np.round(rmse,2) ,'MAPE : ',mape)"
   ]
  },
  {
   "cell_type": "code",
   "execution_count": 29,
   "metadata": {},
   "outputs": [],
   "source": [
    "df1['moving_avg_forecast'] = data['Data'].rolling(4).mean()"
   ]
  },
  {
   "cell_type": "code",
   "execution_count": 31,
   "metadata": {},
   "outputs": [],
   "source": [
    "#Creating train and test set \n",
    "train=df1[0:train_len] \n",
    "test=df1[train_len:]"
   ]
  },
  {
   "cell_type": "code",
   "execution_count": 32,
   "metadata": {},
   "outputs": [],
   "source": [
    "y_hat_avg = test.copy()"
   ]
  },
  {
   "cell_type": "code",
   "execution_count": 33,
   "metadata": {},
   "outputs": [
    {
     "data": {
      "image/png": "[encoded data removed]",
      "text/plain": [
       "<Figure size 864x432 with 1 Axes>"
      ]
     },
     "metadata": {
      "needs_background": "light"
     },
     "output_type": "display_data"
    }
   ],
   "source": [
    "plt.figure(figsize=(12,6))\n",
    "plt.plot(train['Data'], label='Train')\n",
    "plt.plot(test['Data'], label='Test')\n",
    "plt.plot(y_hat_avg['moving_avg_forecast'], label='Moving Average Forecast')\n",
    "plt.legend(loc='best')\n",
    "plt.show()"
   ]
  },
  {
   "cell_type": "code",
   "execution_count": 34,
   "metadata": {},
   "outputs": [
    {
     "data": {
      "text/html": [
       "<div>\n",
       "<style scoped>\n",
       "    .dataframe tbody tr th:only-of-type {\n",
       "        vertical-align: middle;\n",
       "    }\n",
       "\n",
       "    .dataframe tbody tr th {\n",
       "        vertical-align: top;\n",
       "    }\n",
       "\n",
       "    .dataframe thead th {\n",
       "        text-align: right;\n",
       "    }\n",
       "</style>\n",
       "<table border=\"1\" class=\"dataframe\">\n",
       "  <thead>\n",
       "    <tr style=\"text-align: right;\">\n",
       "      <th></th>\n",
       "      <th>Method</th>\n",
       "      <th>RMSE</th>\n",
       "      <th>MAPE</th>\n",
       "    </tr>\n",
       "  </thead>\n",
       "  <tbody>\n",
       "    <tr>\n",
       "      <th>0</th>\n",
       "      <td>Simple average forecast</td>\n",
       "      <td>594.108</td>\n",
       "      <td>0.3635</td>\n",
       "    </tr>\n",
       "    <tr>\n",
       "      <th>0</th>\n",
       "      <td>Moving average forecast</td>\n",
       "      <td>101.840</td>\n",
       "      <td>0.0538</td>\n",
       "    </tr>\n",
       "  </tbody>\n",
       "</table>\n",
       "</div>"
      ],
      "text/plain": [
       "                    Method     RMSE    MAPE\n",
       "0  Simple average forecast  594.108  0.3635\n",
       "0  Moving average forecast  101.840  0.0538"
      ]
     },
     "execution_count": 34,
     "metadata": {},
     "output_type": "execute_result"
    }
   ],
   "source": [
    "# Root Mean Square Error (RMSE)\n",
    "rmse = np.sqrt(mean_squared_error(test.Data, y_hat_avg.moving_avg_forecast))\n",
    "rmse = round(rmse, 3)\n",
    "#Mean Absolute Percentage Error\n",
    "abs_error = np.abs(y_test['Data']-y_hat_avg.moving_avg_forecast)\n",
    "actual = y_test['Data']\n",
    "mape = np.round(np.mean(abs_error/actual),4)\n",
    "# Storing results in a dataframe\n",
    "tempResultsDf = pd.DataFrame({'Method':['Moving average forecast'], 'RMSE': [rmse],'MAPE': [mape] })\n",
    "resultsDf = pd.concat([resultsDf, tempResultsDf])\n",
    "resultsDf = resultsDf[['Method', 'RMSE', 'MAPE']]\n",
    "resultsDf"
   ]
  },
  {
   "cell_type": "code",
   "execution_count": 35,
   "metadata": {},
   "outputs": [],
   "source": [
    "# create class\n",
    "model = SimpleExpSmoothing(train['Data'])"
   ]
  },
  {
   "cell_type": "code",
   "execution_count": 36,
   "metadata": {},
   "outputs": [
    {
     "name": "stdout",
     "output_type": "stream",
     "text": [
      "smoothing_level :  0.1 RMSE :  420.53 MAPE :  0.2488\n",
      "smoothing_level :  0.2 RMSE :  290.38 MAPE :  0.1592\n",
      "smoothing_level :  0.2 RMSE :  219.34 MAPE :  0.1067\n",
      "smoothing_level :  0.3 RMSE :  176.79 MAPE :  0.0844\n",
      "smoothing_level :  0.3 RMSE :  151.33 MAPE :  0.0684\n",
      "smoothing_level :  0.4 RMSE :  137.43 MAPE :  0.0618\n",
      "smoothing_level :  0.4 RMSE :  131.26 MAPE :  0.0674\n",
      "smoothing_level :  0.5 RMSE :  129.75 MAPE :  0.0718\n",
      "smoothing_level :  0.5 RMSE :  130.68 MAPE :  0.0751\n",
      "smoothing_level :  0.6 RMSE :  132.62 MAPE :  0.0777\n",
      "smoothing_level :  0.6 RMSE :  134.76 MAPE :  0.0797\n",
      "smoothing_level :  0.7 RMSE :  136.65 MAPE :  0.0811\n",
      "smoothing_level :  0.7 RMSE :  138.1 MAPE :  0.0821\n",
      "smoothing_level :  0.8 RMSE :  139.01 MAPE :  0.0826\n",
      "smoothing_level :  0.8 RMSE :  139.36 MAPE :  0.0829\n",
      "smoothing_level :  0.9 RMSE :  139.18 MAPE :  0.0827\n",
      "smoothing_level :  0.9 RMSE :  138.5 MAPE :  0.0823\n",
      "smoothing_level :  1.0 RMSE :  137.38 MAPE :  0.0816\n"
     ]
    }
   ],
   "source": [
    "for i in np.arange(0.1,1,0.05):\n",
    "    model_fit = model.fit(smoothing_level=i,optimized=False)\n",
    "    y_hat_avg = test.copy()\n",
    "    y_hat_avg['SES'] = model_fit.forecast(len(test['Data']))\n",
    "    rmse = np.sqrt(mean_squared_error(test.Data, y_hat_avg.SES))\n",
    "    rmse = round(rmse, 3)\n",
    "    abs_error = np.abs(y_test['Data']-y_hat_avg.SES)\n",
    "    actual = y_test['Data']\n",
    "    mape = np.round(np.mean(abs_error/actual),4)\n",
    "    print('smoothing_level : ',np.round(i,1),'RMSE : ' ,np.round(rmse,2) ,'MAPE : ',mape)"
   ]
  },
  {
   "cell_type": "code",
   "execution_count": 37,
   "metadata": {},
   "outputs": [
    {
     "data": {
      "text/plain": [
       "{'smoothing_level': 0.4,\n",
       " 'smoothing_slope': None,\n",
       " 'smoothing_seasonal': None,\n",
       " 'damping_slope': nan,\n",
       " 'initial_level': 194.0,\n",
       " 'initial_slope': nan,\n",
       " 'initial_seasons': array([], dtype=float64),\n",
       " 'use_boxcox': False,\n",
       " 'lamda': None,\n",
       " 'remove_bias': False}"
      ]
     },
     "execution_count": 37,
     "metadata": {},
     "output_type": "execute_result"
    }
   ],
   "source": [
    "# fit model\n",
    "model_fit = model.fit(smoothing_level=0.4,optimized=False)\n",
    "model_fit.params"
   ]
  },
  {
   "cell_type": "code",
   "execution_count": 38,
   "metadata": {},
   "outputs": [],
   "source": [
    "y_hat_avg = test.copy()\n",
    "y_hat_avg['SES'] = model_fit.forecast(len(test['Data']))"
   ]
  },
  {
   "cell_type": "code",
   "execution_count": 39,
   "metadata": {},
   "outputs": [
    {
     "data": {
      "text/plain": [
       "<matplotlib.legend.Legend at 0x264384a6f60>"
      ]
     },
     "execution_count": 39,
     "metadata": {},
     "output_type": "execute_result"
    },
    {
     "data": {
      "image/png": "[encoded data removed]",
      "text/plain": [
       "<Figure size 864x432 with 1 Axes>"
      ]
     },
     "metadata": {
      "needs_background": "light"
     },
     "output_type": "display_data"
    }
   ],
   "source": [
    "plt.figure(figsize=(12,6))\n",
    "plt.plot(train['Data'], label='Train')\n",
    "plt.plot(test['Data'], label='Test')\n",
    "plt.plot(y_hat_avg['SES'], label='SES')\n",
    "plt.legend(loc='best')"
   ]
  },
  {
   "cell_type": "code",
   "execution_count": 40,
   "metadata": {},
   "outputs": [
    {
     "data": {
      "text/html": [
       "<div>\n",
       "<style scoped>\n",
       "    .dataframe tbody tr th:only-of-type {\n",
       "        vertical-align: middle;\n",
       "    }\n",
       "\n",
       "    .dataframe tbody tr th {\n",
       "        vertical-align: top;\n",
       "    }\n",
       "\n",
       "    .dataframe thead th {\n",
       "        text-align: right;\n",
       "    }\n",
       "</style>\n",
       "<table border=\"1\" class=\"dataframe\">\n",
       "  <thead>\n",
       "    <tr style=\"text-align: right;\">\n",
       "      <th></th>\n",
       "      <th>Method</th>\n",
       "      <th>RMSE</th>\n",
       "      <th>MAPE</th>\n",
       "    </tr>\n",
       "  </thead>\n",
       "  <tbody>\n",
       "    <tr>\n",
       "      <th>0</th>\n",
       "      <td>Simple average forecast</td>\n",
       "      <td>594.108</td>\n",
       "      <td>0.3635</td>\n",
       "    </tr>\n",
       "    <tr>\n",
       "      <th>0</th>\n",
       "      <td>Moving average forecast</td>\n",
       "      <td>101.840</td>\n",
       "      <td>0.0538</td>\n",
       "    </tr>\n",
       "    <tr>\n",
       "      <th>0</th>\n",
       "      <td>SES forecast</td>\n",
       "      <td>131.255</td>\n",
       "      <td>0.0674</td>\n",
       "    </tr>\n",
       "  </tbody>\n",
       "</table>\n",
       "</div>"
      ],
      "text/plain": [
       "                    Method     RMSE    MAPE\n",
       "0  Simple average forecast  594.108  0.3635\n",
       "0  Moving average forecast  101.840  0.0538\n",
       "0             SES forecast  131.255  0.0674"
      ]
     },
     "execution_count": 40,
     "metadata": {},
     "output_type": "execute_result"
    }
   ],
   "source": [
    "# Root Mean Square Error (RMSE)\n",
    "rmse = np.sqrt(mean_squared_error(test.Data, y_hat_avg.SES))\n",
    "rmse = round(rmse, 3)\n",
    "# Mean Absolute Percentage Error\n",
    "abs_error = np.abs(y_test['Data']-y_hat_avg.SES)\n",
    "actual = y_test['Data']\n",
    "mape = np.round(np.mean(abs_error/actual),4)\n",
    "# Storing results in a dataframe\n",
    "tempResultsDf = pd.DataFrame({'Method':['SES forecast'], 'RMSE': [rmse],'MAPE': [mape] })\n",
    "resultsDf = pd.concat([resultsDf, tempResultsDf])\n",
    "resultsDf = resultsDf[['Method', 'RMSE', 'MAPE']]\n",
    "resultsDf"
   ]
  },
  {
   "cell_type": "code",
   "execution_count": 41,
   "metadata": {},
   "outputs": [
    {
     "data": {
      "text/plain": [
       "{'smoothing_level': 0.528093928858748,\n",
       " 'smoothing_slope': 0.0,\n",
       " 'smoothing_seasonal': nan,\n",
       " 'damping_slope': nan,\n",
       " 'initial_level': 318.4737363893516,\n",
       " 'initial_slope': 49.058400296523416,\n",
       " 'initial_seasons': array([], dtype=float64),\n",
       " 'use_boxcox': False,\n",
       " 'lamda': None,\n",
       " 'remove_bias': False}"
      ]
     },
     "execution_count": 41,
     "metadata": {},
     "output_type": "execute_result"
    }
   ],
   "source": [
    "fit1 = ExponentialSmoothing(np.asarray(train['Data']) ,seasonal_periods=12 ,trend='add', seasonal='None').fit()\n",
    "fit1.params"
   ]
  },
  {
   "cell_type": "code",
   "execution_count": 42,
   "metadata": {},
   "outputs": [],
   "source": [
    "y_hat_avg['Holt'] = fit1.forecast(len(test))"
   ]
  },
  {
   "cell_type": "code",
   "execution_count": 43,
   "metadata": {},
   "outputs": [
    {
     "data": {
      "image/png": "[encoded data removed]",
      "text/plain": [
       "<Figure size 864x576 with 1 Axes>"
      ]
     },
     "metadata": {
      "needs_background": "light"
     },
     "output_type": "display_data"
    }
   ],
   "source": [
    "plt.figure(figsize=(12,8))\n",
    "plt.plot( train['Data'], label='Train')\n",
    "plt.plot(test['Data'], label='Test')\n",
    "plt.plot(y_hat_avg['Holt'], label='Holt')\n",
    "plt.legend(loc='best')\n",
    "plt.show()"
   ]
  },
  {
   "cell_type": "code",
   "execution_count": 44,
   "metadata": {},
   "outputs": [
    {
     "data": {
      "text/html": [
       "<div>\n",
       "<style scoped>\n",
       "    .dataframe tbody tr th:only-of-type {\n",
       "        vertical-align: middle;\n",
       "    }\n",
       "\n",
       "    .dataframe tbody tr th {\n",
       "        vertical-align: top;\n",
       "    }\n",
       "\n",
       "    .dataframe thead th {\n",
       "        text-align: right;\n",
       "    }\n",
       "</style>\n",
       "<table border=\"1\" class=\"dataframe\">\n",
       "  <thead>\n",
       "    <tr style=\"text-align: right;\">\n",
       "      <th></th>\n",
       "      <th>Method</th>\n",
       "      <th>RMSE</th>\n",
       "      <th>MAPE</th>\n",
       "    </tr>\n",
       "  </thead>\n",
       "  <tbody>\n",
       "    <tr>\n",
       "      <th>0</th>\n",
       "      <td>Simple average forecast</td>\n",
       "      <td>594.108</td>\n",
       "      <td>0.3635</td>\n",
       "    </tr>\n",
       "    <tr>\n",
       "      <th>0</th>\n",
       "      <td>Moving average forecast</td>\n",
       "      <td>101.840</td>\n",
       "      <td>0.0538</td>\n",
       "    </tr>\n",
       "    <tr>\n",
       "      <th>0</th>\n",
       "      <td>SES forecast</td>\n",
       "      <td>131.255</td>\n",
       "      <td>0.0674</td>\n",
       "    </tr>\n",
       "    <tr>\n",
       "      <th>0</th>\n",
       "      <td>Holt</td>\n",
       "      <td>407.255</td>\n",
       "      <td>0.2359</td>\n",
       "    </tr>\n",
       "  </tbody>\n",
       "</table>\n",
       "</div>"
      ],
      "text/plain": [
       "                    Method     RMSE    MAPE\n",
       "0  Simple average forecast  594.108  0.3635\n",
       "0  Moving average forecast  101.840  0.0538\n",
       "0             SES forecast  131.255  0.0674\n",
       "0                     Holt  407.255  0.2359"
      ]
     },
     "execution_count": 44,
     "metadata": {},
     "output_type": "execute_result"
    }
   ],
   "source": [
    "# Root Mean Square Error (RMSE)\n",
    "rmse = np.sqrt(mean_squared_error(test.Data, y_hat_avg.Holt))\n",
    "rmse = round(rmse, 3)\n",
    "# Mean Absolute Percentage Error\n",
    "abs_error = np.abs(y_test['Data']-y_hat_avg.Holt)\n",
    "actual = y_test['Data']\n",
    "mape = np.round(np.mean(abs_error/actual),4)\n",
    "# Storing results in a dataframe\n",
    "tempResultsDf = pd.DataFrame({'Method':['Holt'], 'RMSE': [rmse],'MAPE': [mape] })\n",
    "resultsDf = pd.concat([resultsDf, tempResultsDf])\n",
    "resultsDf = resultsDf[['Method', 'RMSE', 'MAPE']]\n",
    "resultsDf\n"
   ]
  },
  {
   "cell_type": "code",
   "execution_count": 45,
   "metadata": {},
   "outputs": [],
   "source": [
    "y_hat_avg = test.copy()"
   ]
  },
  {
   "cell_type": "code",
   "execution_count": 47,
   "metadata": {},
   "outputs": [
    {
     "data": {
      "text/plain": [
       "{'smoothing_level': 0.10526315549123347,\n",
       " 'smoothing_slope': 0.040314357373408743,\n",
       " 'smoothing_seasonal': 0.8947368397017597,\n",
       " 'damping_slope': nan,\n",
       " 'initial_level': 676.0986493903134,\n",
       " 'initial_slope': 28.543124942003573,\n",
       " 'initial_seasons': array([-615.76077815, -293.12275807,  -29.0399143 , -251.27130632,\n",
       "        -267.65865237, -316.4601126 , -334.60744385, -289.16084822,\n",
       "        -296.11228463, -222.52142617,   89.39649677, -114.64138083]),\n",
       " 'use_boxcox': False,\n",
       " 'lamda': None,\n",
       " 'remove_bias': False}"
      ]
     },
     "execution_count": 47,
     "metadata": {},
     "output_type": "execute_result"
    }
   ],
   "source": [
    "fit1 = ExponentialSmoothing(np.asarray(train['Data']) ,seasonal_periods=12 ,trend='add', seasonal='add').fit()\n",
    "fit1.params"
   ]
  },
  {
   "cell_type": "code",
   "execution_count": 48,
   "metadata": {},
   "outputs": [
    {
     "data": {
      "text/plain": [
       "<matplotlib.legend.Legend at 0x26438525b00>"
      ]
     },
     "execution_count": 48,
     "metadata": {},
     "output_type": "execute_result"
    },
    {
     "data": {
      "image/png": "[encoded data removed]",
      "text/plain": [
       "<Figure size 720x432 with 1 Axes>"
      ]
     },
     "metadata": {
      "needs_background": "light"
     },
     "output_type": "display_data"
    }
   ],
   "source": [
    "y_hat_avg['Holt_Winter'] = fit1.forecast(len(test))\n",
    "plt.figure(figsize=(10,6))\n",
    "plt.plot( train['Data'], label='Train')\n",
    "plt.plot(test['Data'], label='Test')\n",
    "plt.plot(y_hat_avg['Holt_Winter'], label='Holt_Winter')\n",
    "plt.legend(loc='best')"
   ]
  },
  {
   "cell_type": "code",
   "execution_count": 49,
   "metadata": {},
   "outputs": [
    {
     "data": {
      "text/html": [
       "<div>\n",
       "<style scoped>\n",
       "    .dataframe tbody tr th:only-of-type {\n",
       "        vertical-align: middle;\n",
       "    }\n",
       "\n",
       "    .dataframe tbody tr th {\n",
       "        vertical-align: top;\n",
       "    }\n",
       "\n",
       "    .dataframe thead th {\n",
       "        text-align: right;\n",
       "    }\n",
       "</style>\n",
       "<table border=\"1\" class=\"dataframe\">\n",
       "  <thead>\n",
       "    <tr style=\"text-align: right;\">\n",
       "      <th></th>\n",
       "      <th>Method</th>\n",
       "      <th>RMSE</th>\n",
       "      <th>MAPE</th>\n",
       "    </tr>\n",
       "  </thead>\n",
       "  <tbody>\n",
       "    <tr>\n",
       "      <th>0</th>\n",
       "      <td>Simple average forecast</td>\n",
       "      <td>594.108</td>\n",
       "      <td>0.3635</td>\n",
       "    </tr>\n",
       "    <tr>\n",
       "      <th>0</th>\n",
       "      <td>Moving average forecast</td>\n",
       "      <td>101.840</td>\n",
       "      <td>0.0538</td>\n",
       "    </tr>\n",
       "    <tr>\n",
       "      <th>0</th>\n",
       "      <td>SES forecast</td>\n",
       "      <td>131.255</td>\n",
       "      <td>0.0674</td>\n",
       "    </tr>\n",
       "    <tr>\n",
       "      <th>0</th>\n",
       "      <td>Holt</td>\n",
       "      <td>407.255</td>\n",
       "      <td>0.2359</td>\n",
       "    </tr>\n",
       "    <tr>\n",
       "      <th>0</th>\n",
       "      <td>Holt Winter forecast - Additive</td>\n",
       "      <td>250.454</td>\n",
       "      <td>0.1304</td>\n",
       "    </tr>\n",
       "  </tbody>\n",
       "</table>\n",
       "</div>"
      ],
      "text/plain": [
       "                            Method     RMSE    MAPE\n",
       "0          Simple average forecast  594.108  0.3635\n",
       "0          Moving average forecast  101.840  0.0538\n",
       "0                     SES forecast  131.255  0.0674\n",
       "0                             Holt  407.255  0.2359\n",
       "0  Holt Winter forecast - Additive  250.454  0.1304"
      ]
     },
     "execution_count": 49,
     "metadata": {},
     "output_type": "execute_result"
    }
   ],
   "source": [
    "# Root Mean Square Error (RMSE)\n",
    "rmse = np.sqrt(mean_squared_error(test.Data, y_hat_avg.Holt_Winter))\n",
    "rmse = round(rmse, 3)\n",
    "# Mean Absolute Percentage Error\n",
    "abs_error = np.abs(y_test['Data']-y_hat_avg.Holt_Winter)\n",
    "actual = y_test['Data']\n",
    "mape = np.round(np.mean(abs_error/actual),4)\n",
    "# Storing results in a dataframe\n",
    "tempResultsDf = pd.DataFrame({'Method':['Holt Winter forecast - Additive'], 'RMSE': [rmse],'MAPE': [mape] })\n",
    "resultsDf = pd.concat([resultsDf, tempResultsDf])\n",
    "resultsDf = resultsDf[['Method', 'RMSE', 'MAPE']]\n",
    "resultsDf"
   ]
  },
  {
   "cell_type": "code",
   "execution_count": 50,
   "metadata": {},
   "outputs": [
    {
     "data": {
      "text/plain": [
       "{'smoothing_level': 0.05263151787754322,\n",
       " 'smoothing_slope': 0.05263151787754322,\n",
       " 'smoothing_seasonal': 0.9473677258564471,\n",
       " 'damping_slope': nan,\n",
       " 'initial_level': 882.6653729773836,\n",
       " 'initial_slope': 37.26723602255546,\n",
       " 'initial_seasons': array([0.32938522, 0.60895325, 0.86833901, 0.66235502, 0.6506224 ,\n",
       "        0.61230853, 0.59669046, 0.62044502, 0.60466145, 0.63078854,\n",
       "        0.75008733, 0.60085236]),\n",
       " 'use_boxcox': False,\n",
       " 'lamda': None,\n",
       " 'remove_bias': False}"
      ]
     },
     "execution_count": 50,
     "metadata": {},
     "output_type": "execute_result"
    }
   ],
   "source": [
    "y_hat_avg = test.copy()\n",
    "fit1 = ExponentialSmoothing(np.asarray(train['Data']) ,seasonal_periods=12 ,trend='add', seasonal='mul').fit()\n",
    "fit1.params"
   ]
  },
  {
   "cell_type": "code",
   "execution_count": 51,
   "metadata": {},
   "outputs": [],
   "source": [
    "y_hat_avg['Holt_Winter'] = fit1.forecast(len(test))"
   ]
  },
  {
   "cell_type": "code",
   "execution_count": 52,
   "metadata": {},
   "outputs": [
    {
     "data": {
      "text/plain": [
       "<matplotlib.legend.Legend at 0x2643859d978>"
      ]
     },
     "execution_count": 52,
     "metadata": {},
     "output_type": "execute_result"
    },
    {
     "data": {
      "image/png": "[encoded data removed]",
      "text/plain": [
       "<Figure size 720x432 with 1 Axes>"
      ]
     },
     "metadata": {
      "needs_background": "light"
     },
     "output_type": "display_data"
    }
   ],
   "source": [
    "plt.figure(figsize=(10,6))\n",
    "plt.plot( train['Data'], label='Train')\n",
    "plt.plot(test['Data'], label='Test')\n",
    "plt.plot(y_hat_avg['Holt_Winter'], label='Holt_Winter')\n",
    "plt.legend(loc='best')"
   ]
  },
  {
   "cell_type": "code",
   "execution_count": 1,
   "metadata": {},
   "outputs": [
    {
     "ename": "NameError",
     "evalue": "name 'np' is not defined",
     "output_type": "error",
     "traceback": [
      "\u001b[1;31m---------------------------------------------------------------------------\u001b[0m",
      "\u001b[1;31mNameError\u001b[0m                                 Traceback (most recent call last)",
      "\u001b[1;32m<ipython-input-1-701734b435eb>\u001b[0m in \u001b[0;36m<module>\u001b[1;34m\u001b[0m\n\u001b[0;32m      1\u001b[0m \u001b[1;31m# Root Mean Square Error (RMSE)\u001b[0m\u001b[1;33m\u001b[0m\u001b[1;33m\u001b[0m\u001b[1;33m\u001b[0m\u001b[0m\n\u001b[1;32m----> 2\u001b[1;33m \u001b[0mrmse\u001b[0m \u001b[1;33m=\u001b[0m \u001b[0mnp\u001b[0m\u001b[1;33m.\u001b[0m\u001b[0msqrt\u001b[0m\u001b[1;33m(\u001b[0m\u001b[0mmean_squared_error\u001b[0m\u001b[1;33m(\u001b[0m\u001b[0mtest\u001b[0m\u001b[1;33m.\u001b[0m\u001b[0mData\u001b[0m\u001b[1;33m,\u001b[0m \u001b[0my_hat_avg\u001b[0m\u001b[1;33m.\u001b[0m\u001b[0mHolt_Winter\u001b[0m\u001b[1;33m)\u001b[0m\u001b[1;33m)\u001b[0m\u001b[1;33m\u001b[0m\u001b[1;33m\u001b[0m\u001b[0m\n\u001b[0m\u001b[0;32m      3\u001b[0m \u001b[0mrmse\u001b[0m \u001b[1;33m=\u001b[0m \u001b[0mround\u001b[0m\u001b[1;33m(\u001b[0m\u001b[0mrmse\u001b[0m\u001b[1;33m,\u001b[0m \u001b[1;36m3\u001b[0m\u001b[1;33m)\u001b[0m\u001b[1;33m\u001b[0m\u001b[1;33m\u001b[0m\u001b[0m\n\u001b[0;32m      4\u001b[0m \u001b[1;31m# Mean Absolute Percentage Error\u001b[0m\u001b[1;33m\u001b[0m\u001b[1;33m\u001b[0m\u001b[1;33m\u001b[0m\u001b[0m\n\u001b[0;32m      5\u001b[0m \u001b[0mabs_error\u001b[0m \u001b[1;33m=\u001b[0m \u001b[0mnp\u001b[0m\u001b[1;33m.\u001b[0m\u001b[0mabs\u001b[0m\u001b[1;33m(\u001b[0m\u001b[0my_test\u001b[0m\u001b[1;33m[\u001b[0m\u001b[1;34m'Data'\u001b[0m\u001b[1;33m]\u001b[0m\u001b[1;33m-\u001b[0m\u001b[0my_hat_avg\u001b[0m\u001b[1;33m.\u001b[0m\u001b[0mHolt_Winter\u001b[0m\u001b[1;33m)\u001b[0m\u001b[1;33m\u001b[0m\u001b[1;33m\u001b[0m\u001b[0m\n",
      "\u001b[1;31mNameError\u001b[0m: name 'np' is not defined"
     ]
    }
   ],
   "source": [
    "# Root Mean Square Error (RMSE)\n",
    "rmse = np.sqrt(mean_squared_error(test.Data, y_hat_avg.Holt_Winter))\n",
    "rmse = round(rmse, 3)\n",
    "# Mean Absolute Percentage Error\n",
    "abs_error = np.abs(y_test['Data']-y_hat_avg.Holt_Winter)\n",
    "actual = y_test['Data']\n",
    "mape = np.round(np.mean(abs_error/actual),4)\n",
    "# Storing results in a dataframe\n",
    "tempResultsDf = pd.DataFrame({'Method':['Holt Winter forecast - Multiplicative'], 'RMSE': [rmse],'MAPE': [mape] })\n",
    "resultsDf = pd.concat([resultsDf, tempResultsDf])\n",
    "resultsDf = resultsDf[['Method', 'RMSE', 'MAPE']]\n",
    "resultsDf.index = [i for i in range(len(resultsDf))]\n",
    "resultsDf"
   ]
  },
  {
   "cell_type": "code",
   "execution_count": null,
   "metadata": {},
   "outputs": [],
   "source": []
  }
 ],
 "metadata": {
  "kernelspec": {
   "display_name": "Python 3",
   "language": "python",
   "name": "python3"
  },
  "language_info": {
   "codemirror_mode": {
    "name": "ipython",
    "version": 3
   },
   "file_extension": ".py",
   "mimetype": "text/x-python",
   "name": "python",
   "nbconvert_exporter": "python",
   "pygments_lexer": "ipython3",
   "version": "3.7.6"
  }
 },
 "nbformat": 4,
 "nbformat_minor": 2
}
